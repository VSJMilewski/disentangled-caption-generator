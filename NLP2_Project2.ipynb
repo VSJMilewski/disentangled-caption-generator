{
 "cells": [
  {
   "cell_type": "markdown",
   "metadata": {},
   "source": [
    "# Project 2"
   ]
  },
  {
   "cell_type": "markdown",
   "metadata": {},
   "source": [
    "##### import needed packages"
   ]
  },
  {
   "cell_type": "code",
   "execution_count": 1,
   "metadata": {},
   "outputs": [],
   "source": [
    "from tqdm import tqdm_notebook, tqdm, tnrange\n",
    "from collections import defaultdict, Counter\n",
    "import numpy as np\n",
    "import torch\n",
    "import torch.nn as nn\n",
    "import torch.nn.functional as F\n",
    "from torch.optim import SGD\n",
    "from random import shuffle\n",
    "import random\n",
    "import matplotlib.pyplot as plt\n",
    "from datetime import datetime\n",
    "import pickle\n",
    "import subprocess\n",
    "import sys\n",
    "np.set_printoptions(threshold=np.nan)"
   ]
  },
  {
   "cell_type": "markdown",
   "metadata": {},
   "source": [
    "Global for enabling GPU"
   ]
  },
  {
   "cell_type": "code",
   "execution_count": 2,
   "metadata": {},
   "outputs": [
    {
     "data": {
      "text/plain": [
       "True"
      ]
     },
     "execution_count": 2,
     "metadata": {},
     "output_type": "execute_result"
    }
   ],
   "source": [
    "run_gpu = torch.cuda.is_available()\n",
    "run_gpu"
   ]
  },
  {
   "cell_type": "markdown",
   "metadata": {},
   "source": [
    "# Classes and Functions"
   ]
  },
  {
   "cell_type": "markdown",
   "metadata": {},
   "source": [
    "## Data Manipulation"
   ]
  },
  {
   "cell_type": "markdown",
   "metadata": {},
   "source": [
    "### Cleaning and preprocessing"
   ]
  },
  {
   "cell_type": "code",
   "execution_count": 3,
   "metadata": {},
   "outputs": [],
   "source": [
    "def preprocess(train_data, val_data, test_data, vocab_size=10000):\n",
    "    \n",
    "    # loop over all the given files\n",
    "    for data in [train_data, val_data, test_data]:\n",
    "        # contains a source and a target file\n",
    "        for k,v in data.items():\n",
    "            tokenized_path = v[:v.find('.')] + '_tokenized.{}'.format(k)\n",
    "\n",
    "            # Tokenize \n",
    "            tokenize_command = 'perl tools/mosesdecoder/scripts/tokenizer/tokenizer.perl -l {lang} < {file_path} > {output_path}'.format(\n",
    "                lang=k, file_path=v, output_path=tokenized_path)\n",
    "            print('tokenize command:\\t{}'.format(tokenize_command))\n",
    "            \n",
    "            # Lowercase\n",
    "            lowercase_path = tokenized_path[:tokenized_path.find('.')] + '_lowercased.{}'.format(k)\n",
    "            lowercase_command = 'perl tools/mosesdecoder/scripts/tokenizer/lowercase.perl < {file_path} > {output_path}'.format(\n",
    "                file_path=tokenized_path, output_path=lowercase_path)\n",
    "            print('lowercase command:\\t{}\\n'.format(lowercase_command))\n",
    "            \n",
    "    # BPE\n",
    "    # Get vocabulary using train data\n",
    "    script_name = 'python tools/subword-nmt/subword_nmt/learn_joint_bpe_and_vocab.py'\n",
    "    args = ' --input {train_en} {train_fr} -s {num_symbols} -o {codes_file} --write-vocabulary {vocab_file}.en {vocab_file}.fr'\n",
    "    substr_index = train_data['en'].find('/')\n",
    "    vocab_file_name = train_data['en'][:substr_index] + '/vocab'\n",
    "    codes_file_name = train_data['en'][:substr_index] + '/codes.bpe'\n",
    "    learn_vocab_command = script_name + args.format(\n",
    "        train_en='data/train/train_tokenized_lowercased.en',\n",
    "        train_fr='data/train/train_tokenized_lowercased.fr',\n",
    "        num_symbols=str(vocab_size),\n",
    "        codes_file=codes_file_name,\n",
    "        vocab_file=vocab_file_name\n",
    "    )\n",
    "    print('learn vocab command:\\t{}'.format(learn_vocab_command))\n",
    "    \n",
    "    # Process all files the same way for consistency\n",
    "    script_name = 'python tools/subword-nmt/subword_nmt/apply_bpe.py'\n",
    "    for data in [train_data, val_data, test_data]:\n",
    "        for k,v in data.items():\n",
    "            args = ' -c {codes_file} --vocabulary {vocab_file}.{lang} --vocabulary-threshold 1 < {train_file}.{lang} > {train_file}_bpe.{lang}'\n",
    "            train_file_name = v[:v.find('.')] + '_tokenized_lowercased'\n",
    "            bpe_command = script_name + args.format(\n",
    "                codes_file=codes_file_name,\n",
    "                vocab_file=vocab_file_name,\n",
    "                lang=k,\n",
    "                train_file=train_file_name\n",
    "            )\n",
    "            print('bpe command:\\t{}'.format(bpe_command))"
   ]
  },
  {
   "cell_type": "markdown",
   "metadata": {},
   "source": [
    "### Building dictionaries and vocabularies"
   ]
  },
  {
   "cell_type": "code",
   "execution_count": 4,
   "metadata": {},
   "outputs": [],
   "source": [
    "PAD = '<PAD>'\n",
    "UNK = '<UNK>'\n",
    "START = '<SOS>'\n",
    "END = '<EOS>'"
   ]
  },
  {
   "cell_type": "code",
   "execution_count": 5,
   "metadata": {},
   "outputs": [],
   "source": [
    "class DataProcessor():\n",
    "    def __init__(self, file_name, vocab_size):\n",
    "        self.max_sentence_length = -1\n",
    "        self.vocab_size = vocab_size\n",
    "        \n",
    "        self.file_name = file_name\n",
    "        self.sentences = self.load_data()\n",
    "        self.vocab,self.vocab_size, self.vocab_weight = self.build_vocab()\n",
    "        self.w2i, self.i2w = self.build_dicts()\n",
    "        \n",
    "    def load_data(self):\n",
    "        sentences = []\n",
    "        with open(self.file_name, 'r', encoding='utf-8') as f:\n",
    "            for line in f:\n",
    "                sentences.append(line.split())                \n",
    "        return sentences\n",
    "    \n",
    "    def build_dicts(self):\n",
    "        \"\"\"\n",
    "        creates lookup tables to find the index given the word \n",
    "        and the otherway around \n",
    "        \"\"\"\n",
    "        w2i = defaultdict(lambda: w2i[UNK])\n",
    "        i2w = dict()\n",
    "        for i,w in enumerate(self.vocab):\n",
    "            i2w[i] = w\n",
    "            w2i[w] = i\n",
    "        return w2i, i2w    \n",
    "    \n",
    "    def build_vocab(self): \n",
    "        \"\"\"\n",
    "        builds a vocabulary with the most occuring words, in addition to\n",
    "        the UNK token at index 1 and PAD token at index 0. \n",
    "        START and END tokens are added to the vocabulary through the\n",
    "        preprocessed sentences.\n",
    "        with vocab size none, all existing words in the data are used\n",
    "        \"\"\"\n",
    "        vocab = Counter()\n",
    "        for s in self.sentences:\n",
    "            l = len(s)\n",
    "            if l > self.max_sentence_length:\n",
    "                self.max_sentence_length = l\n",
    "            for w in s:\n",
    "                vocab[w] += 1\n",
    "\n",
    "        vocab = [k for k,_ in vocab.most_common(self.vocab_size)]\n",
    "        vocab_weights = list(range(len(vocab)))\n",
    "        vocab = [PAD,UNK,START,END] + vocab\n",
    "        vocab_weights = [0.,1.,1.,1.] + vocab_weights\n",
    "        return vocab,len(vocab), vocab_weights "
   ]
  },
  {
   "cell_type": "markdown",
   "metadata": {},
   "source": [
    "### Getting data batches"
   ]
  },
  {
   "cell_type": "code",
   "execution_count": 6,
   "metadata": {},
   "outputs": [],
   "source": [
    "def batch_generator(source_processor, target_processor, batch_size):\n",
    "    idx = np.arange(len(source_processor.sentences))\n",
    "        \n",
    "    if batch_size == 1:\n",
    "        bi = 0\n",
    "        while True:\n",
    "            b_words_source = np.zeros([batch_size, source_processor.max_sentence_length+1])\n",
    "            b_positions_source = np.zeros([batch_size, source_processor.max_sentence_length+1])\n",
    "            b_words_target = np.zeros([batch_size, target_processor.max_sentence_length+2])\n",
    "            \n",
    "            sent_source = source_processor.sentences[bi] + [END]\n",
    "            sent_target = [START] + target_processor.sentences[bi] + [END]\n",
    "                \n",
    "            b_words_source[0, :len(sent_source)] = np.array([source_processor.w2i[w] for w in sent_source])\n",
    "            b_positions_source[0, :len(sent_source)] = np.array([i for i in range(len(sent_source))])\n",
    "            b_words_target[0, :len(sent_target)] = np.array([target_processor.w2i[w] for w in sent_target])\n",
    "            \n",
    "            if run_gpu:\n",
    "                word_tens = torch.from_numpy(b_words_source).type(torch.cuda.LongTensor)\n",
    "                pos_tens = torch.from_numpy(b_positions_source).type(torch.cuda.LongTensor)\n",
    "                tar_tens = torch.from_numpy(b_words_target).type(torch.cuda.LongTensor)\n",
    "                sentence_lengths_source = torch.cuda.FloatTensor([len(sent_source)])\n",
    "                sentence_lengths_target = torch.cuda.FloatTensor([len(sent_target)])\n",
    "            else:\n",
    "                word_tens = torch.from_numpy(b_words_source).type(torch.LongTensor)\n",
    "                pos_tens = torch.from_numpy(b_positions_source).type(torch.LongTensor)\n",
    "                tar_tens = torch.from_numpy(b_words_target).type(torch.LongTensor)\n",
    "                sentence_lengths_source = torch.FloatTensor([len(sent_source)])\n",
    "                sentence_lengths_target = torch.FloatTensor([len(sent_target)])\n",
    "                \n",
    "            bi += 1\n",
    "            if bi == len(source_processor.sentences):\n",
    "                bi = 0\n",
    "            yield (word_tens,\n",
    "                   pos_tens,\n",
    "                   tar_tens,\n",
    "                   sentence_lengths_source,\n",
    "                   sentence_lengths_target,\n",
    "                   np.ones(sentence_lengths_source[0]),\n",
    "                   np.ones(sentence_lengths_target[0]))\n",
    "    \n",
    "    else:\n",
    "        seed = 0\n",
    "        while True:\n",
    "            epoch = list(idx)\n",
    "            random.Random(seed).shuffle(epoch)\n",
    "            \n",
    "            #loop over the number of batches in the dataset\n",
    "            for b in range(int(np.floor(len(idx)/batch_size))):\n",
    "                b_words_source = np.zeros([batch_size, source_processor.max_sentence_length+1])\n",
    "                b_positions_source = np.zeros([batch_size, source_processor.max_sentence_length+1])\n",
    "                b_words_target = np.zeros([batch_size, target_processor.max_sentence_length+2])\n",
    "                \n",
    "                sentence_lengths_source = []\n",
    "                sentence_lengths_target = []\n",
    "                #fill the batch with sentence\n",
    "                for i in range(batch_size):\n",
    "                    # pick a sentence from the current epoch\n",
    "                    bi = epoch.pop() \n",
    "                    sent_source = source_processor.sentences[bi] + [END]\n",
    "                    sent_target = [START] + target_processor.sentences[bi] + [END]\n",
    "\n",
    "                    b_words_source[i, :len(sent_source)] = np.array([source_processor.w2i[w] for w in sent_source])\n",
    "                    b_positions_source[i, :len(sent_source)] = np.array([i for i in range(len(sent_source))])\n",
    "                    b_words_target[i, :len(sent_target)] = np.array([target_processor.w2i[w] for w in sent_target])\n",
    "\n",
    "                    sentence_lengths_source.append(len(sent_source))\n",
    "                    sentence_lengths_target.append(len(sent_target))\n",
    "                \n",
    "                b_words_source = b_words_source[:,:np.max(sentence_lengths_source)]\n",
    "                b_positions_source = b_positions_source[:,:np.max(sentence_lengths_source)]\n",
    "                b_words_target = b_words_target[:,:np.max(sentence_lengths_target)]\n",
    "                \n",
    "                if run_gpu:\n",
    "                    word_tens = torch.from_numpy(b_words_source).type(torch.cuda.LongTensor)\n",
    "                    pos_tens = torch.from_numpy(b_positions_source).type(torch.cuda.LongTensor)\n",
    "                    tar_tens = torch.from_numpy(b_words_target).type(torch.cuda.LongTensor)\n",
    "                    sentence_lengths_source = torch.cuda.FloatTensor(sentence_lengths_source)\n",
    "                    sentence_lengths_target = torch.cuda.FloatTensor(sentence_lengths_target)\n",
    "                    source_mask = torch.from_numpy((b_words_source > 0).astype(int)).type(torch.cuda.FloatTensor)\n",
    "                    target_mask = torch.from_numpy((b_words_target > 0).astype(int)).type(torch.cuda.FloatTensor)\n",
    "                else:\n",
    "                    word_tens = torch.from_numpy(b_words_source).type(torch.LongTensor)\n",
    "                    pos_tens = torch.from_numpy(b_positions_source).type(torch.LongTensor)\n",
    "                    tar_tens = torch.from_numpy(b_words_target).type(torch.LongTensor)\n",
    "                    sentence_lengths_source = torch.FloatTensor(sentence_lengths_source)\n",
    "                    sentence_lengths_target = torch.FloatTensor(sentence_lengths_target)\n",
    "                    source_mask = torch.from_numpy((b_words_source > 0).astype(int)).type(torch.FloatTensor)\n",
    "                    target_mask = torch.from_numpy((b_words_target > 0).astype(int)).type(torch.FloatTensor)\n",
    "\n",
    "                yield (word_tens,\n",
    "                       pos_tens,\n",
    "                       tar_tens,\n",
    "                       sentence_lengths_source,\n",
    "                       sentence_lengths_target,\n",
    "                       source_mask,\n",
    "                       target_mask)"
   ]
  },
  {
   "cell_type": "markdown",
   "metadata": {},
   "source": [
    "## Sequence 2 Sequence RNN's"
   ]
  },
  {
   "cell_type": "markdown",
   "metadata": {},
   "source": [
    "### Encoder"
   ]
  },
  {
   "cell_type": "code",
   "execution_count": 29,
   "metadata": {},
   "outputs": [],
   "source": [
    "class Encoder(nn.Module):\n",
    "    def __init__(self, source_vocab_size, source_max_length, embeddings_dim, use_encoder_rnn):\n",
    "        super().__init__()\n",
    "        self.embeddings_dim = embeddings_dim\n",
    "        self.word_embeddings = nn.Embedding(source_vocab_size, embeddings_dim)\n",
    "        self.pos_embeddings = nn.Embedding(source_max_length, embeddings_dim)\n",
    "        self.gru = nn.GRU(embeddings_dim, embeddings_dim, bidirectional=True)\n",
    "        \n",
    "    def forward(self, words_batch, pos_batch, sentence_lengths, mask): # all inputs are tensors\n",
    "        batch_size = words_batch.size(0)\n",
    "        encoded_length = words_batch.size(1)\n",
    "        if use_encoder_rnn:\n",
    "            words_emb = self.word_embeddings(words_batch)\n",
    "            output, hn = self.gru(words_emb.view(encoded_length,batch_size,self.embeddings_dim))\n",
    "            last_out = output[-1,:,:]\n",
    "            return output, last_out\n",
    "        else:\n",
    "            words_emb = self.word_embeddings(words_batch)\n",
    "            pos_emb = self.pos_embeddings(pos_batch)\n",
    "            full_emb = torch.cat((words_emb,pos_emb), dim=-1)\n",
    "            mean_emb = full_emb.mul(mask.unsqueeze(2).expand_as(full_emb)).sum(dim=1).float()\n",
    "            mean_emb = mean_emb.div(sentence_lengths.float().view(-1,1)).squeeze(1) # batched version of torch.mean(full_emb,1)\n",
    "            return full_emb.view(encoded_length,batch_size,self.embeddings_dim*2), mean_emb"
   ]
  },
  {
   "cell_type": "markdown",
   "metadata": {},
   "source": [
    "### Decoder"
   ]
  },
  {
   "cell_type": "code",
   "execution_count": 8,
   "metadata": {},
   "outputs": [],
   "source": [
    "class Decoder(nn.Module):\n",
    "    def __init__(self, target_vocab_size, embeddings_dim, dropout_p=0.5):\n",
    "        super().__init__()\n",
    "        \n",
    "        self.embedding_dim = embedding_dims\n",
    "        \n",
    "        self.target_embeddings = nn.Embedding(target_vocab_size, embeddings_dim)\n",
    "        self.droput = nn.Dropout(dropout_p)\n",
    "        self.gru = nn.GRU(embeddings_dim, embeddings_dim*2) # gru is similar to LSTM, and has 2 outputs\n",
    "        self.concat = nn.Linear(embeddings_dim*4, embeddings_dim*4)\n",
    "        self.logit_lin = nn.Linear(embeddings_dim*4, target_vocab_size) # out\n",
    "        \n",
    "    def forward(self, gold_words_batch, hidden_batch, stacked_encoded_words_batch, use_attention=True, run_gpu=run_gpu):\n",
    "        batch_size = gold_words_batch.size(0)\n",
    "        encoded_length = stacked_encoded_words_batch.size(0)\n",
    "        \n",
    "        emb = self.target_embeddings(gold_words_batch)\n",
    "        emb = self.droput(emb)\n",
    "        \n",
    "        gru_output, hidden = self.gru(emb.view(1,batch_size,self.embedding_dim), hidden_batch)\n",
    "\n",
    "        if use_attention:\n",
    "            # attention \n",
    "            # dot product\n",
    "            alphas = hidden_batch.view(batch_size, 1, self.embedding_dim*2).bmm(\n",
    "                                stacked_encoded_words_batch.view(batch_size, self.embedding_dim*2, encoded_length)) # batched version of dot product\n",
    "\n",
    "            # Turn to probability distribution\n",
    "            alphas = F.softmax(alphas, dim=2)\n",
    "        else:\n",
    "            alphas = torch.ones(batch_size, 1, encoded_length)\n",
    "            if run_gpu:\n",
    "                alphas = alphas.cuda()\n",
    "        \n",
    "        # context is weights x hidden states from encoder\n",
    "        context = torch.bmm(alphas, stacked_encoded_words_batch.view(batch_size,encoded_length,self.embedding_dim*2))\n",
    "        concat_input = torch.cat((gru_output.view(batch_size,1,self.embedding_dim*2), context),dim=-1)\n",
    "        concat_output = F.tanh(self.concat(concat_input))\n",
    "        output = self.logit_lin(concat_output)\n",
    "\n",
    "        return output, hidden, alphas"
   ]
  },
  {
   "cell_type": "markdown",
   "metadata": {},
   "source": [
    "### Encoder Decoder"
   ]
  },
  {
   "cell_type": "code",
   "execution_count": 9,
   "metadata": {},
   "outputs": [],
   "source": [
    "class EncoderDecoder(nn.Module):\n",
    "    def __init__(self, \n",
    "                 embeddings_dim,\n",
    "                 source_vocab_size, \n",
    "                 source_max_length, \n",
    "                 target_vocab_size, \n",
    "                 dropout_p=0.1,\n",
    "                 teacher_forcing_p=1,\n",
    "                 use_encoder_rnn=True):\n",
    "        \n",
    "        super().__init__()\n",
    "        \n",
    "        self.source_vocab_size = source_vocab_size\n",
    "        self.target_vocab_size = target_vocab_size\n",
    "        self.teacher_forcing_p = teacher_forcing_p\n",
    "        \n",
    "        self.encoder = Encoder(source_vocab_size,\n",
    "                               source_max_length + 1, \n",
    "                               embeddings_dim,\n",
    "                               use_encoder_rnn=use_encoder_rnn)\n",
    "        self.decoder = Decoder(target_vocab_size, \n",
    "                               embeddings_dim,\n",
    "                               dropout_p=dropout_p)\n",
    "\n",
    "        self.loss = nn.CrossEntropyLoss(ignore_index=0, reduce=False)\n",
    "\n",
    "        if run_gpu:\n",
    "            self.encoder = self.encoder.cuda()\n",
    "            self.decoder = self.decoder.cuda()\n",
    "            self.loss = self.loss.cuda()\n",
    "\n",
    "    def forward(self, \n",
    "                words_batch_source,\n",
    "                pos_batch_source,\n",
    "                sentence_length_source,\n",
    "                words_batch_target,\n",
    "                sentence_lengths_target,\n",
    "                source_mask,\n",
    "                target_mask):        \n",
    "        \n",
    "        # Encode\n",
    "        all_embs, hidden_state_batch = self.encoder(words_batch_source, \n",
    "                                                    pos_batch_source, \n",
    "                                                    sentence_length_source, \n",
    "                                                    source_mask)\n",
    "        # Decode\n",
    "        batch_size, max_sent_len = words_batch_target.shape\n",
    "        out = torch.zeros((batch_size))\n",
    "        \n",
    "        if run_gpu:\n",
    "            out = out.cuda()\n",
    "            \n",
    "        teacher_forcing = np.random.random() <= self.teacher_forcing_p\n",
    "        hidden_state_batch = hidden_state_batch.unsqueeze(0)\n",
    "        # w_idx goes from START to final word, which are inputs for decoder\n",
    "        if teacher_forcing:\n",
    "            for w_idx in range(max_sent_len-1):\n",
    "                # prediction = (Batch_size,1,Vocab_size), word_batch_target[:,w_idx+1] = (Batch_size), where 0 <= value <= vocab_size\n",
    "                prediction, hidden_state_batch, _ = self.decoder(words_batch_target[:,w_idx].view(-1,1), \n",
    "                                                              hidden_state_batch,\n",
    "                                                              all_embs)\n",
    "                out += self.loss(prediction.squeeze(1), words_batch_target[:,w_idx+1]) #given the current word, we predict the next word      \n",
    "        else:\n",
    "            prediction = words_batch_target[:,0].view(-1,1)\n",
    "            for w_idx in range(max_sent_len-1):\n",
    "                prediction, hidden_state_batch, _ = self.decoder(prediction, \n",
    "                                                                 hidden_state_batch,\n",
    "                                                                 all_embs)\n",
    "                out += self.loss(prediction.squeeze(1), words_batch_target[:,w_idx+1]) #given the current word, we predict the next word \n",
    "                \n",
    "                index_predicted_word = np.argmax(prediction.detach().cpu().numpy(), axis=2)\n",
    "                prediction = torch.LongTensor([index_predicted_word]).view(-1,1)\n",
    "                \n",
    "                if prediction == 3: # EOS\n",
    "                    break\n",
    "                    \n",
    "                if run_gpu:\n",
    "                    prediction = prediction.cuda()\n",
    "    \n",
    "        #cleanup\n",
    "        del(all_embs)\n",
    "        del(hidden_state_batch)\n",
    "        out = torch.mean(torch.div(out,sentence_lengths_target))  # the loss is the average of losses, so divide over number of words in each sentence\n",
    "        \n",
    "        return out"
   ]
  },
  {
   "cell_type": "markdown",
   "metadata": {},
   "source": [
    "# Running the Code"
   ]
  },
  {
   "cell_type": "markdown",
   "metadata": {},
   "source": [
    "## Define Hyper Parameters"
   ]
  },
  {
   "cell_type": "markdown",
   "metadata": {},
   "source": [
    "#### files"
   ]
  },
  {
   "cell_type": "code",
   "execution_count": 10,
   "metadata": {},
   "outputs": [],
   "source": [
    "# Raw\n",
    "train_data = {'en': 'data/train/train.en', 'fr': 'data/train/train.fr'}\n",
    "val_data = {'en': 'data/val/val.en', 'fr': 'data/val/val.fr'}\n",
    "test_data = {'en': 'data/test/test_2017_flickr.en', 'fr': 'data/test/test_2017_flickr.fr'}\n",
    "\n",
    "# Preprocessed\n",
    "source_train_file = 'data/train/train_tokenized_lowercased_bpe.fr'\n",
    "target_train_file = 'data/train/train_tokenized_lowercased_bpe.en'\n",
    "source_val_file = 'data/val/val_tokenized_lowercased_bpe.fr'\n",
    "target_val_file = 'data/val/val_tokenized_lowercased_bpe.en'\n",
    "source_test_file = 'data/test/test_2017_flickr_tokenized_lowercased_bpe.fr'\n",
    "target_test_file = 'data/test/test_2017_flickr_tokenized_lowercased_bpe.en'"
   ]
  },
  {
   "cell_type": "markdown",
   "metadata": {},
   "source": [
    "#### Network Parameters"
   ]
  },
  {
   "cell_type": "code",
   "execution_count": 11,
   "metadata": {},
   "outputs": [],
   "source": [
    "learning_rate = 1e-1\n",
    "max_epochs = 30\n",
    "batch_size = 16\n",
    "\n",
    "source_vocab_size = 30000\n",
    "target_vocab_size = 30000\n",
    "hidden_dims = 128\n",
    "embedding_dims = 128\n",
    "\n",
    "save_step = 100\n",
    "\n",
    "use_encoder_rnn = False # change accordingly"
   ]
  },
  {
   "cell_type": "markdown",
   "metadata": {},
   "source": [
    "## process data"
   ]
  },
  {
   "cell_type": "markdown",
   "metadata": {},
   "source": [
    "perform the preprocessing"
   ]
  },
  {
   "cell_type": "code",
   "execution_count": 12,
   "metadata": {},
   "outputs": [],
   "source": [
    "preprocess(train_data, val_data, test_data, source_vocab_size)"
   ]
  },
  {
   "cell_type": "markdown",
   "metadata": {},
   "source": [
    "prepare data for the model"
   ]
  },
  {
   "cell_type": "code",
   "execution_count": 13,
   "metadata": {},
   "outputs": [],
   "source": [
    "source_processor = DataProcessor(source_train_file, source_vocab_size)\n",
    "target_processor = DataProcessor(target_train_file, target_vocab_size)\n",
    "source_processor_val = DataProcessor(source_val_file, None)\n",
    "target_processor_val = DataProcessor(target_val_file, None)"
   ]
  },
  {
   "cell_type": "markdown",
   "metadata": {},
   "source": [
    "## setup the Network"
   ]
  },
  {
   "cell_type": "code",
   "execution_count": 14,
   "metadata": {},
   "outputs": [],
   "source": [
    "encdec = EncoderDecoder(embedding_dims, \n",
    "                        source_processor.vocab_size,\n",
    "                        source_processor.max_sentence_length,\n",
    "                        target_processor.vocab_size,\n",
    "                        use_encoder_rnn=use_encoder_rnn)\n",
    "\n",
    "if run_gpu:\n",
    "    encdec = encdec.cuda()\n",
    "encdec.train(True) #probably not needed. better to be safe\n",
    "opt = SGD(encdec.parameters(), lr=learning_rate)"
   ]
  },
  {
   "cell_type": "code",
   "execution_count": 15,
   "metadata": {},
   "outputs": [],
   "source": [
    "def validation_predictions(model, prediction_file_name):\n",
    "    run_gpu = False\n",
    "    # Use submodules for prediction\n",
    "    encoder = model.encoder.cpu()\n",
    "    decoder = model.decoder.cpu()\n",
    "\n",
    "    predicted_sentences = []\n",
    "\n",
    "    for s,ts in zip(source_processor_val.sentences,target_processor_val.sentences):\n",
    "        mask = torch.from_numpy(np.ones([1,len(s)])).type(torch.FloatTensor)\n",
    "        words_tokens = torch.LongTensor([source_processor.w2i[w] for w in s])\n",
    "        words_tokens_tar = torch.LongTensor([target_processor.w2i[w] for w in ts])\n",
    "        pos_tokens = torch.LongTensor([i for i in range(len(s))])\n",
    "        len_s = torch.FloatTensor([len(s)])\n",
    "        \n",
    "        # Encode\n",
    "        all_embs, mean_emb = encoder(words_tokens.view(1, len(s)),\n",
    "                                     pos_tokens.view(1, len(s)), \n",
    "                                     len_s,\n",
    "                                     mask)\n",
    "        del(mask)\n",
    "        del(len_s)\n",
    "        del(pos_tokens)\n",
    "        del(words_tokens)\n",
    "\n",
    "        # Decode\n",
    "        start_token = torch.LongTensor([target_processor.w2i[START]])\n",
    "        predicted_words = []\n",
    "        \n",
    "        prediction = start_token.view(1,1)\n",
    "        hidden_state_batch = mean_emb\n",
    "\n",
    "        hidden_state_batch = hidden_state_batch.unsqueeze(0)\n",
    "        for w_idx in range(target_processor.max_sentence_length):# loop until EOS is produced or a max is reached (max_sentence_length)\n",
    "            prediction, hidden_state_batch,_ = decoder(prediction, # the previous prediction\n",
    "                                                       hidden_state_batch,\n",
    "                                                       all_embs,\n",
    "                                                       run_gpu=run_gpu)\n",
    "\n",
    "            index_predicted_word = np.argmax(prediction.detach().numpy(), axis=2)[0][0]\n",
    "            predicted_word = target_processor.i2w[index_predicted_word]\n",
    "            predicted_words.append(predicted_word)\n",
    "\n",
    "            if predicted_word == END:\n",
    "                break\n",
    "            \n",
    "            prediction = torch.LongTensor([index_predicted_word]).view(1,1)\n",
    "        \n",
    "        predicted_sentences.append(predicted_words)\n",
    "\n",
    "        del(start_token)\n",
    "        del(mean_emb)\n",
    "        del(hidden_state_batch)\n",
    "        del(all_embs)\n",
    "        del(prediction)\n",
    "    \n",
    "    with open(prediction_file_name, 'w', encoding='utf-8') as f:\n",
    "        for p in predicted_sentences:\n",
    "            if p[-1] == END:\n",
    "                p = p[:-1]\n",
    "            f.write(' '.join(p) + '\\n')\n",
    "    \n",
    "    # execute a powershell script for removing tokens\n",
    "    prediction_restored = prediction_file_name[:-5] + '_restored.pred'\n",
    "    _ = %ps get-content {prediction_file_name} | %{{$$_ -replace \"(@@ )|(@@ ?$)\",\"\"}} | out-file {prediction_restored} -encoding Ascii\n",
    "    perl_script = subprocess.Popen([\"C:/Strawberry/perl/bin/perl.exe\", \n",
    "                                    \"./tools/mosesdecoder/scripts/generic/multi-bleu.perl\", \n",
    "                                    \"-lc\", \n",
    "                                    \"./data/val/val_tokenized_lowercased.en\",\n",
    "                                    \"<\",prediction_restored],\n",
    "                                   shell=True,stdout=subprocess.PIPE, stderr=subprocess.PIPE)\n",
    "    bleu_out,bleu_err = perl_script.communicate()\n",
    "    run_gpu=True\n",
    "    return bleu_out.decode(\"utf-8\"), bleu_err.decode(\"utf-8\")"
   ]
  },
  {
   "cell_type": "markdown",
   "metadata": {},
   "source": [
    "## training"
   ]
  },
  {
   "cell_type": "code",
   "execution_count": 16,
   "metadata": {},
   "outputs": [
    {
     "data": {
      "text/plain": [
       "HBox(children=(IntProgress(value=0, max=54390), HTML(value='')))"
      ]
     },
     "metadata": {},
     "output_type": "display_data"
    },
    {
     "name": "stdout",
     "output_type": "stream",
     "text": [
      "Pseudo-Epoch 1:\tBLEU = 0.60, 5.3/1.1/0.2/0.1 (BP=1.000, ratio=4.804, hyp_len=63928, ref_len=13308)\n",
      "Pseudo-Epoch 2:\tBLEU = 3.02, 26.6/5.2/1.2/0.5 (BP=1.000, ratio=1.150, hyp_len=15309, ref_len=13308)\n",
      "Pseudo-Epoch 3:\tBLEU = 3.36, 28.0/5.7/1.5/0.5 (BP=1.000, ratio=1.162, hyp_len=15465, ref_len=13308)\n",
      "Pseudo-Epoch 4:\tBLEU = 3.33, 27.3/5.7/1.5/0.5 (BP=1.000, ratio=1.261, hyp_len=16776, ref_len=13308)\n",
      "Pseudo-Epoch 5:\tBLEU = 4.00, 32.7/6.7/1.8/0.6 (BP=1.000, ratio=1.027, hyp_len=13665, ref_len=13308)\n",
      "Pseudo-Epoch 6:\tBLEU = 4.28, 32.9/6.9/2.0/0.8 (BP=1.000, ratio=1.056, hyp_len=14047, ref_len=13308)\n",
      "Pseudo-Epoch 7:\tBLEU = 4.42, 30.5/6.8/2.1/0.9 (BP=1.000, ratio=1.180, hyp_len=15706, ref_len=13308)\n",
      "Pseudo-Epoch 8:\tBLEU = 4.70, 32.5/7.2/2.1/1.0 (BP=1.000, ratio=1.138, hyp_len=15143, ref_len=13308)\n",
      "Pseudo-Epoch 9:\tBLEU = 5.01, 34.7/7.9/2.4/1.0 (BP=1.000, ratio=1.073, hyp_len=14285, ref_len=13308)\n",
      "Pseudo-Epoch 10:\tBLEU = 5.36, 36.8/8.5/2.6/1.0 (BP=0.997, ratio=0.997, hyp_len=13271, ref_len=13308)\n",
      "Pseudo-Epoch 11:\tBLEU = 5.16, 35.9/8.4/2.5/0.9 (BP=1.000, ratio=1.030, hyp_len=13712, ref_len=13308)\n",
      "Pseudo-Epoch 12:\tBLEU = 5.47, 36.2/8.6/2.7/1.1 (BP=1.000, ratio=1.036, hyp_len=13789, ref_len=13308)\n",
      "Pseudo-Epoch 13:\tBLEU = 5.47, 35.5/8.5/2.7/1.1 (BP=1.000, ratio=1.075, hyp_len=14302, ref_len=13308)\n",
      "Pseudo-Epoch 14:\tBLEU = 5.32, 34.3/8.4/2.6/1.1 (BP=1.000, ratio=1.149, hyp_len=15294, ref_len=13308)\n",
      "Pseudo-Epoch 15:\tBLEU = 6.08, 42.7/10.8/3.6/1.5 (BP=0.858, ratio=0.867, hyp_len=11544, ref_len=13308)\n",
      "Pseudo-Epoch 16:\tBLEU = 6.60, 39.5/10.1/3.5/1.4 (BP=0.988, ratio=0.988, hyp_len=13143, ref_len=13308)\n",
      "Pseudo-Epoch 17:\tBLEU = 6.30, 38.6/9.9/3.2/1.3 (BP=1.000, ratio=1.021, hyp_len=13582, ref_len=13308)\n",
      "Pseudo-Epoch 18:\tBLEU = 6.41, 39.2/10.1/3.3/1.3 (BP=1.000, ratio=1.009, hyp_len=13424, ref_len=13308)\n",
      "Pseudo-Epoch 19:\tBLEU = 6.65, 39.2/10.1/3.4/1.5 (BP=1.000, ratio=1.009, hyp_len=13428, ref_len=13308)\n",
      "Pseudo-Epoch 20:\tBLEU = 6.57, 39.9/10.2/3.4/1.4 (BP=0.987, ratio=0.987, hyp_len=13133, ref_len=13308)\n",
      "Pseudo-Epoch 21:\tBLEU = 6.94, 39.5/10.5/3.7/1.5 (BP=1.000, ratio=1.005, hyp_len=13380, ref_len=13308)\n",
      "Pseudo-Epoch 22:\tBLEU = 6.59, 39.0/10.1/3.4/1.4 (BP=1.000, ratio=1.008, hyp_len=13419, ref_len=13308)\n",
      "Pseudo-Epoch 23:\tBLEU = 6.47, 40.6/10.5/3.4/1.3 (BP=0.977, ratio=0.977, hyp_len=13000, ref_len=13308)\n",
      "Pseudo-Epoch 24:\tBLEU = 6.66, 39.3/10.4/3.5/1.4 (BP=1.000, ratio=1.015, hyp_len=13509, ref_len=13308)\n",
      "Pseudo-Epoch 25:\tBLEU = 6.63, 39.6/10.3/3.4/1.4 (BP=1.000, ratio=1.020, hyp_len=13573, ref_len=13308)\n",
      "Pseudo-Epoch 26:\tBLEU = 6.86, 39.8/10.6/3.7/1.4 (BP=0.999, ratio=0.999, hyp_len=13290, ref_len=13308)\n",
      "Pseudo-Epoch 27:\tBLEU = 6.82, 39.4/10.4/3.6/1.5 (BP=1.000, ratio=1.036, hyp_len=13792, ref_len=13308)\n",
      "Pseudo-Epoch 28:\tBLEU = 6.63, 40.5/10.6/3.6/1.3 (BP=0.986, ratio=0.986, hyp_len=13121, ref_len=13308)\n",
      "Pseudo-Epoch 29:\tBLEU = 6.62, 42.4/11.5/3.9/1.5 (BP=0.901, ratio=0.906, hyp_len=12057, ref_len=13308)\n",
      "Pseudo-Epoch 30:\tBLEU = 7.21, 40.7/10.9/3.8/1.6 (BP=0.996, ratio=0.996, hyp_len=13260, ref_len=13308)\n",
      "\n",
      "Model saved in file: encmean_model_last-it_54389_t_05_27_19_37.torchsave\n"
     ]
    }
   ],
   "source": [
    "losses = []\n",
    "count = 0\n",
    "pseudo_epoch = 0\n",
    "gen = batch_generator(source_processor, target_processor, batch_size)\n",
    "sentences_in_data = len(source_processor.sentences)\n",
    "iterations = int(np.ceil(sentences_in_data/batch_size)*max_epochs)\n",
    "    \n",
    "for it in tnrange(iterations): \n",
    "    output_i = it%save_step\n",
    "    out = 0\n",
    "    if output_i == 0:\n",
    "        if it != 0:\n",
    "            losses += output.tolist()\n",
    "            del(output)\n",
    "        if run_gpu:\n",
    "            output = torch.cuda.FloatTensor([0]*save_step)\n",
    "        else:\n",
    "            output = torch.FloatTensor([0]*save_step)\n",
    "    \n",
    "    opt.zero_grad()\n",
    "    \n",
    "    # Get the next bath of data and \n",
    "    (words_batch_source, \n",
    "    pos_batch_source,\n",
    "    words_batch_target,\n",
    "    sentence_lengths_source,\n",
    "    sentence_lengths_target,\n",
    "    source_mask,\n",
    "    target_mask) = next(gen)\n",
    "    \n",
    "    out = encdec(words_batch_source,\n",
    "                 pos_batch_source, \n",
    "                 sentence_lengths_source, \n",
    "                 words_batch_target, \n",
    "                 sentence_lengths_target, \n",
    "                 source_mask, \n",
    "                 target_mask)\n",
    "    \n",
    "    out.backward()\n",
    "    output[output_i] = out\n",
    "    opt.step()\n",
    "    count += batch_size\n",
    "    if count >= sentences_in_data:\n",
    "        encdec.train(False)\n",
    "        count = 0\n",
    "        pseudo_epoch += 1\n",
    "        #perform validation\n",
    "        timestamp = datetime.now()\n",
    "        prediction_file_name = 'val_epoch_{}_encmean_model_it_{}_t_{:%m_%d_%H_%M}.pred'.format(pseudo_epoch, it, timestamp)\n",
    "        blue,_ = validation_predictions(encdec,prediction_file_name)\n",
    "        print(\"Pseudo-Epoch {}:\\t{}\".format(pseudo_epoch,blue.strip()))\n",
    "        # Dump trained models\n",
    "        torch.save(encdec.state_dict(), 'encmean_model_it_{}_t_{:%m_%d_%H_%M}.torchsave'.format(it, timestamp))\n",
    "        if run_gpu:\n",
    "            encdec = encdec.cuda()\n",
    "        encdec.train(True)\n",
    "losses += output.tolist()[:output_i+1]\n",
    "del(output)\n",
    "\n",
    "# Dump trained models\n",
    "timestamp = datetime.now()\n",
    "last_model_file_name = 'encmean_model_last-it_{}_t_{:%m_%d_%H_%M}.torchsave'.format(it, timestamp)\n",
    "torch.save(encdec.state_dict(), last_model_file_name)\n",
    "\n",
    "print('Model saved in file: {}'.format(last_model_file_name))"
   ]
  },
  {
   "cell_type": "markdown",
   "metadata": {},
   "source": [
    "Plot losses"
   ]
  },
  {
   "cell_type": "code",
   "execution_count": 104,
   "metadata": {},
   "outputs": [
    {
     "data": {
      "image/png": "[encoded data removed]",
      "text/plain": [
       "<matplotlib.figure.Figure at 0x184705d99e8>"
      ]
     },
     "metadata": {},
     "output_type": "display_data"
    }
   ],
   "source": [
    "plt.figure(figsize=(18,13))\n",
    "plt.plot(range(len(losses)),losses)\n",
    "plt.tick_params(labelsize=20)\n",
    "plt.ylim(0,6.5)\n",
    "# plt.xlim(0)\n",
    "plt.xlabel('Batch Number',size=20)\n",
    "plt.ylabel('CrossEntropyLoss',size=20)\n",
    "plt.grid()\n",
    "plt.show()"
   ]
  },
  {
   "cell_type": "markdown",
   "metadata": {},
   "source": [
    "## prediction"
   ]
  },
  {
   "cell_type": "markdown",
   "metadata": {},
   "source": [
    "load trained models"
   ]
  },
  {
   "cell_type": "code",
   "execution_count": 34,
   "metadata": {},
   "outputs": [
    {
     "data": {
      "text/plain": [
       "False"
      ]
     },
     "execution_count": 34,
     "metadata": {},
     "output_type": "execute_result"
    }
   ],
   "source": [
    "run_gpu = False\n",
    "use_encoder_rnn"
   ]
  },
  {
   "cell_type": "code",
   "execution_count": 35,
   "metadata": {},
   "outputs": [],
   "source": [
    "encdec = EncoderDecoder(embedding_dims,\n",
    "                        source_processor.vocab_size,\n",
    "                        source_processor.max_sentence_length,\n",
    "                        target_processor.vocab_size)\n",
    "\n",
    "trained_model_file = last_model_file_name\n",
    "\n",
    "saved_state = torch.load(trained_model_file, map_location=lambda storage, loc: storage) # Bring from cuda\n",
    "encdec.load_state_dict(saved_state)\n",
    "\n",
    "# Use submodules for prediction\n",
    "encoder = encdec.encoder\n",
    "decoder = encdec.decoder"
   ]
  },
  {
   "cell_type": "code",
   "execution_count": 36,
   "metadata": {},
   "outputs": [
    {
     "data": {
      "text/plain": [
       "'test_encmean_model_last-it_54389_t_05_27_19_37.pred'"
      ]
     },
     "execution_count": 36,
     "metadata": {},
     "output_type": "execute_result"
    }
   ],
   "source": [
    "file_id = trained_model_file[trained_model_file.rfind('/')+1:-10]\n",
    "prediction_file_name = 'test_{}.pred'.format(file_id)\n",
    "prediction_file_name"
   ]
  },
  {
   "cell_type": "code",
   "execution_count": 37,
   "metadata": {},
   "outputs": [],
   "source": [
    "source_processor_test = DataProcessor(source_test_file, None)\n",
    "target_processor_test = DataProcessor(target_test_file, None)"
   ]
  },
  {
   "cell_type": "code",
   "execution_count": 39,
   "metadata": {},
   "outputs": [
    {
     "name": "stdout",
     "output_type": "stream",
     "text": [
      "Predictions ready in file: test_encmean_model_last-it_54389_t_05_27_19_37.pred\n"
     ]
    }
   ],
   "source": [
    "predicted_sentences = []\n",
    "attention_weights = [] # list of (source_sentence, predicted_sentence, alphas) items\n",
    "\n",
    "for s in source_processor_test.sentences:\n",
    "    mask = torch.from_numpy(np.ones([1,len(s)])).type(torch.FloatTensor)\n",
    "    words_tokens = torch.LongTensor([source_processor.w2i[w] for w in s])\n",
    "    pos_tokens = torch.LongTensor([i for i in range(len(s))])\n",
    "    \n",
    "    # Encode\n",
    "    all_embs, mean_emb = encoder(words_tokens.view(1, len(s)),\n",
    "                                 pos_tokens.view(1, len(s)), \n",
    "                                 torch.FloatTensor([len(s)]),\n",
    "                                 mask)\n",
    "    \n",
    "    # Decode\n",
    "    predicted_words = []\n",
    "    weights = []\n",
    "    \n",
    "    start_token = torch.LongTensor([target_processor.w2i[START]])\n",
    "    prediction = start_token.view(1,1)\n",
    "    \n",
    "    hidden_state_batch = mean_emb.unsqueeze(0)\n",
    "    \n",
    "    for w_idx in range(target_processor.max_sentence_length):# loop until EOS is produced or a max is reached (max_sentence_length)\n",
    "        prediction, hidden_state_batch, alphas = decoder(\n",
    "            prediction, # the previous prediction\n",
    "            hidden_state_batch,\n",
    "            all_embs,run_gpu=run_gpu)\n",
    "        \n",
    "        index_predicted_word = np.argmax(prediction.detach().numpy(), axis=2)[0][0]\n",
    "        predicted_word = target_processor.i2w[index_predicted_word]\n",
    "        predicted_words.append(predicted_word)\n",
    "        weights.append(alphas.view(-1).tolist())\n",
    "        if predicted_word == END:\n",
    "            break\n",
    "            \n",
    "        prediction = torch.LongTensor([index_predicted_word]).view(1,1)\n",
    "    \n",
    "    predicted_sentences.append(predicted_words)\n",
    "    attention_weights.append((s, predicted_words, np.array(weights)))\n",
    "    \n",
    "with open(prediction_file_name, 'w', encoding='utf-8') as f:\n",
    "    for p in predicted_sentences:\n",
    "        if p[-1] == END:\n",
    "            p = p[:-1]\n",
    "        f.write(' '.join(p) + '\\n')\n",
    "\n",
    "print('Predictions ready in file: {}'.format(prediction_file_name))\n",
    "\n",
    "pickle.dump(attention_weights, open('attention_weights_meanenc_prediction_weights.p','wb'))"
   ]
  },
  {
   "cell_type": "markdown",
   "metadata": {},
   "source": [
    "### attention visualization"
   ]
  },
  {
   "cell_type": "code",
   "execution_count": null,
   "metadata": {},
   "outputs": [],
   "source": [
    "# Load attention weights from the best model\n",
    "attention_weights = pickle.load(open('attention_weights_meanenc_prediction_weights.p', 'rb'))"
   ]
  },
  {
   "cell_type": "code",
   "execution_count": 146,
   "metadata": {},
   "outputs": [
    {
     "data": {
      "image/png": "[encoded data removed]",
      "text/plain": [
       "<matplotlib.figure.Figure at 0x1578d7a09b0>"
      ]
     },
     "metadata": {},
     "output_type": "display_data"
    }
   ],
   "source": [
    "def visualize_attention(source_sentence, target_sentence, weights):\n",
    "    l_s = len(source_sentence)\n",
    "    l_t = len(target_sentence)\n",
    "    fig, ax = plt.subplots(figsize=(l_t*0.8,l_s*0.8))\n",
    "    im = ax.imshow(weights)\n",
    "    #show the labels for every tick\n",
    "    ax.set_xticks(np.arange(l_s))\n",
    "    ax.set_yticks(np.arange(l_t))\n",
    "    ax.set_xticklabels(source_sentence)\n",
    "    ax.set_yticklabels(target_sentence)\n",
    "    ax.set_xlabel('Source Sentence', fontsize='large')\n",
    "    ax.set_ylabel('Target Sentence', fontsize='large')\n",
    "    ax.xaxis.set_label_position('top') \n",
    "    ax.tick_params(top=True, bottom=False,\n",
    "                   labeltop=True, labelbottom=False)\n",
    "    # Rotate the tick labels and set their alignment.\n",
    "    plt.setp(ax.get_xticklabels(), rotation=-30, ha=\"right\",\n",
    "             rotation_mode=\"anchor\")\n",
    "     # Turn spines off and create white grid.\n",
    "    for edge, spine in ax.spines.items():\n",
    "        spine.set_visible(False)\n",
    "    ax.set_xticks(np.arange(l_s+1)-.5, minor=True)\n",
    "    ax.set_yticks(np.arange(l_t+1)-.5, minor=True)\n",
    "    ax.grid(which=\"minor\", color=\"w\", linestyle='-', linewidth=1.5)\n",
    "    ax.tick_params(which=\"minor\", bottom=False, left=False)\n",
    "    fig.tight_layout()\n",
    "    plt.show()\n",
    "#     plt.savefig('{}_pred'.format(file_id))\n",
    "  \n",
    "\n",
    "# Choose a short sentence\n",
    "# short_translations = []\n",
    "# for sentence_id, (src, tgt, w) in enumerate(attention_weights):\n",
    "#     if len(src) < 10:\n",
    "#         short_translations.append((src, tgt, sentence_id))\n",
    "\n",
    "# for x,y,z in short_translations[:100]:\n",
    "#     print(x)\n",
    "#     print(y)\n",
    "#     print(z)\n",
    "\n",
    "sentence_id =654\n",
    "item = attention_weights[sentence_id]\n",
    "visualize_attention(item[0], item[1], item[2])"
   ]
  },
  {
   "cell_type": "markdown",
   "metadata": {},
   "source": [
    "## Evaluation"
   ]
  },
  {
   "cell_type": "markdown",
   "metadata": {},
   "source": [
    "Restore original segmentation"
   ]
  },
  {
   "cell_type": "code",
   "execution_count": 151,
   "metadata": {},
   "outputs": [],
   "source": [
    "file_id = 'beam5'\n",
    "prediction_restored = 'beam5_restored.pred'\n",
    "# prediction_restored = prediction_file_name[:-5] + '_restored.pred'"
   ]
  },
  {
   "cell_type": "code",
   "execution_count": 42,
   "metadata": {},
   "outputs": [
    {
     "name": "stdout",
     "output_type": "stream",
     "text": [
      "restore file command:\t get-content test_encmean_model_last-it_54389_t_05_27_19_37.pred | %{$_ -replace \"(@@ )|(@@ ?$)\",\"\"} | out-file test_encmean_model_last-it_54389_t_05_27_19_37_restored.pred -encoding ASCII\n"
     ]
    }
   ],
   "source": [
    "# sed -r 's/(@@ )|(@@ ?$)//g' Use the Powershell version instead. Watch for ASCII!\n",
    "\n",
    "restore_command = 'get-content {input_file} | %{{$_ -replace \"(@@ )|(@@ ?$)\",\"\"}} | out-file {output_file} -encoding ASCII'.format(\n",
    "    input_file = prediction_file_name,\n",
    "    output_file = prediction_restored)\n",
    "\n",
    "print('restore file command:\\t', restore_command)"
   ]
  },
  {
   "cell_type": "code",
   "execution_count": 43,
   "metadata": {},
   "outputs": [
    {
     "data": {
      "text/plain": [
       "[]"
      ]
     },
     "execution_count": 43,
     "metadata": {},
     "output_type": "execute_result"
    }
   ],
   "source": [
    "%ps get-content {prediction_file_name} | %{{$$_ -replace \"(@@ )|(@@ ?$)\",\"\"}} | out-file {prediction_restored} -encoding Ascii\n",
    "#| %\\{\\{$_ -replace \"(@@ )|(@@ ?$)\",\"\"\\}\\} | out-file {prediction_restored} -encoding ASCII"
   ]
  },
  {
   "cell_type": "markdown",
   "metadata": {},
   "source": [
    "### BLEU"
   ]
  },
  {
   "cell_type": "code",
   "execution_count": 115,
   "metadata": {},
   "outputs": [],
   "source": [
    "bleu_script = 'tools/mosesdecoder/scripts/generic/multi-bleu.perl'\n",
    "bleu_command = 'perl tools/mosesdecoder/scripts/generic/multi-bleu.perl -lc data/test/test_2017_flickr_tokenized_lowercased.en < {} > {} '.format(prediction_restored,\n",
    "                                                                                                                                              'bleu_results/' + file_id + '.bleu')\n",
    "bleu_script = 'tools/mosesdecoder/scripts/generic/multi-bleu.perl'\n",
    "bleu_commands = '-lc data/test/test_2017_flickr_tokenized_lowercased.en < {}'.format(prediction_restored)\n",
    "\n",
    "# print('bleu file command:\\n', bleu_command)"
   ]
  },
  {
   "cell_type": "code",
   "execution_count": null,
   "metadata": {},
   "outputs": [],
   "source": [
    "perl_script = subprocess.Popen([\"C:/Strawberry/perl/bin/perl.exe\", \n",
    "                                \"./tools/mosesdecoder/scripts/generic/multi-bleu.perl\", \n",
    "                                \"-lc\", \n",
    "                                \"./data/test/test_2017_flickr_tokenized_lowercased.en\",\n",
    "                                \"<\",prediction_restored],\n",
    "                               shell=True,stdout=subprocess.PIPE, stderr=subprocess.PIPE)\n",
    "out,err = perl_script.communicate()\n",
    "out = out.decode(\"utf-8\") \n",
    "err = err.decode(\"utf-8\") \n",
    "print(out)\n",
    "print(err)"
   ]
  },
  {
   "cell_type": "code",
   "execution_count": null,
   "metadata": {},
   "outputs": [],
   "source": [
    "prediction_restored"
   ]
  },
  {
   "cell_type": "markdown",
   "metadata": {},
   "source": [
    "### Meteor"
   ]
  },
  {
   "cell_type": "code",
   "execution_count": 152,
   "metadata": {},
   "outputs": [
    {
     "name": "stdout",
     "output_type": "stream",
     "text": [
      "meteor command:\t java -jar tools/meteor-1.5/meteor-1.5.jar beam5_restored.pred data/test/test_2017_flickr_tokenized_lowercased.en > meteor_results/beam5.meteor\n"
     ]
    }
   ],
   "source": [
    "meteor_command = 'java -jar tools/meteor-1.5/meteor-1.5.jar {} data/test/test_2017_flickr_tokenized_lowercased.en > {}'.format(\n",
    "    prediction_restored,\n",
    "    'meteor_results/' + file_id + '.meteor')\n",
    "\n",
    "print('meteor command:\\t', meteor_command)"
   ]
  },
  {
   "cell_type": "code",
   "execution_count": null,
   "metadata": {},
   "outputs": [],
   "source": [
    "# We're getting an out of memory error when running from the notebook, call from the command line instead\n",
    "\n",
    "#meteor_script = subprocess.Popen([\"java\", \n",
    "#                                 \"-jar\", \n",
    "#                                 \"./tools/meteor-1.5/meteor-1.5.jar\",\n",
    "#                                 prediction_restored,\n",
    "#                                 \"./data/test/test_2017_flickr_tokenized_lowercased.en\"],\n",
    "#                                shell=True,stdout=subprocess.PIPE, stderr=subprocess.PIPE)\n",
    "# out,err = meteor_script.communicate()\n",
    "# out = out.decode(\"utf-8\") \n",
    "# err = err.decode(\"utf-8\") \n",
    "# print(out)\n",
    "# print(err)"
   ]
  },
  {
   "cell_type": "markdown",
   "metadata": {},
   "source": [
    "### TER"
   ]
  },
  {
   "cell_type": "markdown",
   "metadata": {},
   "source": [
    "Preparation for TER"
   ]
  },
  {
   "cell_type": "code",
   "execution_count": 153,
   "metadata": {},
   "outputs": [],
   "source": [
    "# Append ids to both gold and prediction files\n",
    "gold = 'data/test/test_2017_flickr_tokenized_lowercased.en'\n",
    "gold_ter = gold[:-3] + '_ter.en'\n",
    "\n",
    "prediction_restored_ter = prediction_restored[:-5] + '_ter.pred'\n",
    "\n",
    "with open(gold, 'r') as fi, open(gold_ter, 'w') as fo:\n",
    "    for i, line in enumerate(fi.readlines()):\n",
    "        last_char = line[-1]\n",
    "        fo.write('{} ({}){}'.format(line[:-1], i, last_char))\n",
    "\n",
    "with open(prediction_restored, 'r') as fi, open(prediction_restored_ter, 'w') as fo:\n",
    "    for i, line in enumerate(fi.readlines()):\n",
    "        last_char = line[-1]\n",
    "        fo.write('{} ({}){}'.format(line[:-1], i, last_char))"
   ]
  },
  {
   "cell_type": "code",
   "execution_count": 154,
   "metadata": {},
   "outputs": [
    {
     "name": "stdout",
     "output_type": "stream",
     "text": [
      "ter command:\t java -jar tools/tercom-0.7.25/tercom.7.25.jar -r data/test/test_2017_flickr_tokenized_lowercased_ter.en -h beam5_restored_ter.pred -n ter_results/beam5 > ter_results/beam5_out.txt\n"
     ]
    }
   ],
   "source": [
    "ter_command = 'java -jar tools/tercom-0.7.25/tercom.7.25.jar -r {} -h {} -n {} > {}'.format(\n",
    "    gold_ter,\n",
    "    prediction_restored_ter,\n",
    "    'ter_results/' + file_id,\n",
    "    'ter_results/' + file_id + '_out.txt')\n",
    "\n",
    "print('ter command:\\t', ter_command)"
   ]
  },
  {
   "cell_type": "markdown",
   "metadata": {},
   "source": [
    "#### beam search"
   ]
  },
  {
   "cell_type": "code",
   "execution_count": 86,
   "metadata": {},
   "outputs": [],
   "source": [
    "class Hypothesis(object):\n",
    "    \"\"\"use for decoding\"\"\"\n",
    "    def __init__(self, perm, score, state, sent):\n",
    "        self.perm = perm\n",
    "        self.score = score\n",
    "        self.state = state\n",
    "        self.sent = sent\n",
    "\n",
    "    def update(self):\n",
    "        return\n",
    "\n",
    "def beamsearch(model, sent, beam_size):\n",
    "    \"\"\"Beam search decoder\"\"\"\n",
    "    encoder = model.encoder\n",
    "    decoder = model.decoder\n",
    "    \n",
    "    \"\"\"bin: keep track of hypothesis, bin[i] contains all the hypotheses of length i\"\"\"\n",
    "    bin = [] # to keep track of hypothesis\n",
    "\n",
    "    # first of all, we need to encode the whole source sentence\n",
    "    # since this is done only one time\n",
    "    # map word to its id\n",
    "    mask = torch.from_numpy(np.ones([1,len(sent)])).type(torch.FloatTensor)\n",
    "    words_tokens = torch.LongTensor([source_processor.w2i[w] for w in sent])\n",
    "    pos_tokens = torch.LongTensor([i for i in range(len(sent))])\n",
    "    \n",
    "    # Encode\n",
    "    all_embs, mean_emb = encoder(words_tokens.view(1, len(sent)),\n",
    "                                 pos_tokens.view(1, len(sent)), \n",
    "                                 torch.FloatTensor([len(sent)]),\n",
    "                                 mask)\n",
    "    mean_emb = mean_emb.unsqueeze(0)\n",
    "    # Decode \n",
    "    # create the initial hypothesis\n",
    "    h0 = Hypothesis([target_processor.w2i[START]], 0.0, mean_emb, [])\n",
    "    # put h0 to bin\n",
    "    stacks = []\n",
    "    stacks.append(h0)\n",
    "    bin.append(stacks)  # note that we put h0 in to a stack first\n",
    "\n",
    "    # now we can loop through max number of target words\n",
    "    for w_idx in range(target_processor.max_sentence_length):\n",
    "        prev_stack = bin[w_idx]\n",
    "        curr_stack = []\n",
    "        for hypo in prev_stack:\n",
    "            if len(hypo.sent) > 0 and hypo.sent[-1] == END:\n",
    "                curr_stack.append(hypo)\n",
    "            else:\n",
    "                # expand it\n",
    "                # get the previous generated word in hypo\n",
    "                prediction = torch.LongTensor([hypo.perm[-1]]).view(1,1)\n",
    "                # now, update decode\n",
    "                new_prediction, new_hidden_state_batch, _ = decoder(prediction, # the previous prediction\n",
    "                                                                    hypo.state,\n",
    "                                                                    all_embs,run_gpu=run_gpu)\n",
    "                del(prediction)\n",
    "                new_prediction = new_prediction.detach().numpy().flatten()\n",
    "                best_id = new_prediction.argsort()[-beam_size:][::-1]\n",
    "                # get out top beam_size log prob\n",
    "                for j in best_id:\n",
    "                    perm = list(hypo.perm)\n",
    "                    sent = list(hypo.sent)\n",
    "                    # extend the permutation\n",
    "                    perm.append(j)\n",
    "                    new_prob = hypo.score + new_prediction[j]\n",
    "                    predicted_word = target_processor.i2w[j]\n",
    "                    sent.append(predicted_word)\n",
    "                    new_h = Hypothesis(perm,new_prob,new_hidden_state_batch,sent)\n",
    "                    curr_stack.append(new_h)\n",
    "\n",
    "        #if there more then max beam_size permutations, reduce\n",
    "        if len(curr_stack) > beam_size:\n",
    "            ordered_scores = []\n",
    "            #get the scores from the hypothesis\n",
    "            for h in curr_stack:\n",
    "                ordered_scores.append(h.score)\n",
    "            #get the indexs from 100 highest scores\n",
    "            locations = sorted(range(len(ordered_scores)), key=lambda i: ordered_scores[i])[-beam_size:]\n",
    "            #put top 100 in the bin\n",
    "            stacks = [curr_stack[i] for i in locations]\n",
    "            bin.append(stacks)\n",
    "        else:\n",
    "            bin.append(curr_stack)\n",
    "    # now find the highest scored translation\n",
    "    ordered_scores = []\n",
    "    last_stack = bin[-1]\n",
    "    #get the scores from the hypothesis\n",
    "    for h in last_stack:\n",
    "        ordered_scores.append(h.score)\n",
    "    #return the hypothesis with highest score\n",
    "    return last_stack[ordered_scores.index(max(ordered_scores))]\n",
    "\n",
    "# hyp = beamsearch(encdec, source_processor_test.sentences[0], 10)"
   ]
  },
  {
   "cell_type": "code",
   "execution_count": 90,
   "metadata": {},
   "outputs": [
    {
     "data": {
      "text/plain": [
       "HBox(children=(IntProgress(value=0, max=1000), HTML(value='')))"
      ]
     },
     "metadata": {},
     "output_type": "display_data"
    }
   ],
   "source": [
    "beam_prediction_file_name = 'beam_'+ prediction_file_name\n",
    "with open(beam_prediction_file_name, 'w', encoding='utf-8') as f:\n",
    "    for s in tqdm_notebook(source_processor_test.sentences):\n",
    "        hyp = beamsearch(encdec, s, 5)\n",
    "        p = hyp.sent\n",
    "        if p[-1] == END:\n",
    "            p = p[:-1]\n",
    "        f.write(' '.join(p) + '\\n')\n",
    "\n",
    "    "
   ]
  },
  {
   "cell_type": "code",
   "execution_count": 91,
   "metadata": {},
   "outputs": [
    {
     "data": {
      "text/plain": [
       "[]"
      ]
     },
     "execution_count": 91,
     "metadata": {},
     "output_type": "execute_result"
    }
   ],
   "source": [
    "beam_prediction_restored = beam_prediction_file_name[:-5] + '_restored.pred'\n",
    "%ps get-content {beam_prediction_file_name} | %{{$$_ -replace \"(@@ )|(@@ ?$)\",\"\"}} | out-file {beam_prediction_restored} -encoding Ascii"
   ]
  },
  {
   "cell_type": "code",
   "execution_count": 92,
   "metadata": {},
   "outputs": [
    {
     "name": "stdout",
     "output_type": "stream",
     "text": [
      "BLEU = 5.27, 35.3/8.4/2.7/1.0 (BP=1.000, ratio=1.060, hyp_len=12064, ref_len=11376)\n",
      "\n",
      "It is in-advisable to publish scores from multi-bleu.perl.  The scores depend on your tokenizer, which is unlikely to be reproducible from your paper or consistent across research groups.  Instead you should detokenize then use mteval-v14.pl, which has a standard tokenization.  Scores from multi-bleu.perl can still be used for internal purposes when you have a consistent tokenizer.\n",
      "\n"
     ]
    }
   ],
   "source": [
    "perl_script = subprocess.Popen([\"C:/Strawberry/perl/bin/perl.exe\", \n",
    "                                \"./tools/mosesdecoder/scripts/generic/multi-bleu.perl\", \n",
    "                                \"-lc\", \n",
    "                                \"./data/test/test_2017_flickr_tokenized_lowercased.en\",\n",
    "                                \"<\",prediction_restored],\n",
    "                               shell=True,stdout=subprocess.PIPE, stderr=subprocess.PIPE)\n",
    "out,err = perl_script.communicate()\n",
    "out = out.decode(\"utf-8\") \n",
    "err = err.decode(\"utf-8\") \n",
    "print(out)\n",
    "print(err)"
   ]
  },
  {
   "cell_type": "code",
   "execution_count": null,
   "metadata": {},
   "outputs": [],
   "source": []
  }
 ],
 "metadata": {
  "kernelspec": {
   "display_name": "Python 3.6",
   "language": "python",
   "name": "python3"
  },
  "language_info": {
   "codemirror_mode": {
    "name": "ipython",
    "version": 3
   },
   "file_extension": ".py",
   "mimetype": "text/x-python",
   "name": "python",
   "nbconvert_exporter": "python",
   "pygments_lexer": "ipython3",
   "version": "3.6.5"
  }
 },
 "nbformat": 4,
 "nbformat_minor": 2
}
